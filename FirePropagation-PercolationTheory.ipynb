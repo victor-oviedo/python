{
 "cells": [
  {
   "cell_type": "markdown",
   "metadata": {},
   "source": [
    "<h1><center><font size=\"5\">Transición de fase en propagación de fuegos</font></center></h1>\n",
    "<h1><center><font size=\"4\">Victor M. Oviedo</font></center></h1>\n",
    "<h1><center><font size=\"4\">Instituto de Física, Universidad de Antioquia, Calle 70 No. 52-21, Medellín, Colombia</font></center></h1>\n",
    "<h1><center><font size=\"4\">05/12/12</font></center></h1>"
   ]
  },
  {
   "cell_type": "markdown",
   "metadata": {},
   "source": [
    "**Resumen:** <div style=\"text-align: justify\"> \n",
    "En este trabajo se caracteriza la propagación del fuego en un incendio en un bosque cuadrado de lado $L=401$ hallando parámetros como el exponente crítico, el exponente dinámico y la dimensión fractal a medida que se varía la probabilidad de propagación. En particular para $p = 0.5$ se encuentra que el exponente crítico es $\\gamma = 2.25 \\pm 0.04$, el exponente dinámico \n",
    "$1.5141 \\pm 0.2488$ y la dimensión fractal $1.88 \\pm 0.12$. Además se encuentra que el valor máximo de $\\nu$ ocurre para valores de $p$ cercanos a 0.7.\n",
    "\n",
    "\n",
    "</div>\n",
    "\n",
    "**Palabras claves:** percolación por enlace, incendios, transición de fase, dimensión fractal."
   ]
  },
  {
   "cell_type": "markdown",
   "metadata": {},
   "source": [
    "<h1><center><font size=\"4\">1. Introducción</font></center></h1>\n",
    "\n",
    "\n",
    "<div style=\"text-align: justify\"> \n",
    "En este trabajo se busca modelar un incendio usando teoría de percolación en un bosque homogéneo cuadrado caracterizándolo con parámetros como el exponente dinánico $\\nu$, de manera que la propagación del incendio sea poca y el bosque se conserve. Además se quiere hallar la dimensión fractal contenida en el problema del número de árboles quemados en función del radio de giro para diferentes valores de la probabilidad de propagación.\n",
    "</div>\n",
    "\n",
    "<div style=\"text-align: justify\"> \n",
    "Entre las investigaciones más recientes en teoría de percolación se encuentra el estudio realizado por Kathleen E. Hamilton y Leonid P. Pryadko [1] donde se retoma un modelo de percolación continua planteado en 1961 y donde se unen dos puntos si uno de los puntos está dentro del área de un disco centrado en el otro, en este estudio se encuentra un valor óptimo para el área crítica $A_c$. \n",
    "</div>\n",
    "\n",
    "<div style=\"text-align: justify\"> \n",
    "La teoría de percolación es una muestra de las posibilidades en las que un físico puede contribuir al desarrollo del conocimiento desde un área diferente a la física, hecho de relevancia en un mundo competitivo y donde las áreas específicas cada vez se vuelven más interdisciplinarias. Además de la aplicación que se desea realizar, la teoría de percolaciones cuenta con diferentes aplicaciones como es el caso del estudio de la dinámica del tráfico vehicular en una ciudad. [2]\n",
    "</div>\n",
    "<div style=\"text-align: justify\"> \n",
    "Encontrar puentes, como es el caso de la aplicación de la teoría de percolaciones al diseño de bosques cada vez más seguros, contiene una doble recompensa. En primer lugar es una salida que estudiantes de física y físicos pueden encontrar como fuente de ingresos por medio de la investigación, ya que a medida que pasan los años, y en particular en Colombia, el presupuesto de investigación en ciencias básicas se ha vuelto más escaso, convirtiendo a las ciencias aplicadas en prioridad sin desmeritar los importantes avances que se hacen dentro de las áreas teóricas. Por otro lado es contribuir a uno de los problemas más delicados con los que se enfrenta la humanidad actualmente, es decir, el cuidado del medio ambiente, desarrollar bosques más seguros implica disminuir la magnitud de desastres ambientales provocados por incendios. \n",
    "</div>"
   ]
  },
  {
   "cell_type": "markdown",
   "metadata": {},
   "source": [
    "<h1><center><font size=\"4\">2. Marco teórico</font></center></h1>\n",
    "\n",
    "**2.1. Percolación por enlace:**\n",
    "\n",
    "\n",
    "**2.2. Miscelánea:** \n",
    "<div style=\"text-align: justify\"> \n",
    "Se quiere verificar que el número de total de árboles quemados $S$ es función de la probabilidad de propagación $p$ y siguen una relación de la forma:\n",
    "$$ S \\propto |p-p_c|^{-\\gamma} \\tag{1} $$\n",
    "donde $p_c$ es el umbral de percolación y el valor teórico establecio para el exponente crítico $\\gamma$ es $\\gamma_{teo}=2.38$.\n",
    "</div> \n",
    "<div style=\"text-align: justify\"> \n",
    "En función del tiempo, el número de árboles quemados varía como:\n",
    "$$ S \\propto t^{\\nu} \\tag{2} $$\n",
    "donde $\\nu$ es el exponente dinámico cuyo significado es describir que tan difícil es la propagación del fuego.\n",
    "</div> \n",
    "<div style=\"text-align: justify\"> \n",
    "El problema cuenta con dimensión fractal, la cual se relaciona con $S$ como:\n",
    "$$ S \\propto R_{s}^{d} \\tag{3} $$\n",
    "con el radio de giro $R_{s}^{d}$ definido por:\n",
    "$$R_{s}^{d}= \\sqrt{\\frac{1}{S} \\sum_{i=1}^{S} |r_i-r_{cm}|^2} \\tag{4}$$ \n",
    "siendo $r_i$ la posición del i-ésimo árbol y $r_{cm}$ la posición del centro de masa definida como:\n",
    "$$r_{cm}= \\frac{1}{S} \\sum_{i=1}^{S} r_{i} \\tag{5}$$ \n",
    "</div>"
   ]
  },
  {
   "cell_type": "markdown",
   "metadata": {},
   "source": [
    "<h1><center><font size=\"4\">3. Resultados y discusión</font></center></h1>\n",
    "\n",
    "**3.1. Percolación por enlace:**\n",
    "<div style=\"text-align: justify\"> \n",
    "La teoría de percolación trata de la forma en como evoluciona un sistema de redes cuando se conectan o se remueven sus nodos[3]. En particular, la percolación por enlace tiene sus orígenes en el problema de como baja hasta el fondo un líquido que se derrama sobre un material poroso. Computacionalmente, el problema de percolación por enlace es un problema de primeros vecinos. \n",
    "</div>\n"
   ]
  },
  {
   "cell_type": "markdown",
   "metadata": {},
   "source": [
    "<div style=\"text-align: justify\"> \n",
    "Para estudiar el comportamiento del tiempo de duración del fuego en función de la probabilidad de propagación $p$ se escribió el algoritmo 1, el cual es el algoritmo principal de este trabajo y simula un proceso de percolación con cuatro posibles vecinos. Se consideraron bosques cuadrados de lado $L=401$ y se inició el fuego en el centro. La figura 1a muestra el tiempo de fuego en función de la probabilidad de propagación, para esta gráfica se varío $p$ y se hicieron 20 simulaciones por cada valor de $p$ y se promedio el tiempo. La figura 1b muestra un aumento en la zona de interés, es decir donde $p=p_c$, siendo $p_c$ es el umbral de percolación, cuyo valor teórico es $p_c = 0.5$, para esta figura se consideraron más puntos y se usó el valor de $p$ para cual ocurre el máximo de $t$ para determinar $p_c$ y se halló $pc=0.506$.\n",
    "</div>"
   ]
  },
  {
   "cell_type": "code",
   "execution_count": 172,
   "metadata": {},
   "outputs": [],
   "source": [
    "import numpy as np\n",
    "import matplotlib.pyplot as plt\n",
    "from time import time\n",
    "from scipy.optimize import curve_fit"
   ]
  },
  {
   "cell_type": "markdown",
   "metadata": {},
   "source": [
    "**Algoritmo 1** Función que simula percolación con cuatro vecinos."
   ]
  },
  {
   "cell_type": "code",
   "execution_count": 173,
   "metadata": {},
   "outputs": [],
   "source": [
    "def percolation(sy,sx,sigma,L,k,ay,ax,p,state2_y,state2_x,w): #simula percolacion por enlace y mixta\n",
    "    if(w==1): #percolacion de enlace\n",
    "        if(k==0): #derecha\n",
    "            if(sx==L-1):\n",
    "                return 0\n",
    "            else:\n",
    "                z = sigma[sy][sx+1] #q es el punto a analizar\n",
    "                if(z==2 or z==3):\n",
    "                    return 0\n",
    "                if(z==1): #el vecino se puede incendiar\n",
    "                    r = np.random.random()\n",
    "                    if(r<p): #el vecino se incendia\n",
    "                        sigma[sy][sx+1] = 2\n",
    "                        ay.append(sy)\n",
    "                        ax.append(sx+1)\n",
    "                        return 1\n",
    "                    else:\n",
    "                        return 0\n",
    "\n",
    "        if(k==1): #izq\n",
    "            if(sx==0):\n",
    "                return 0\n",
    "            else:\n",
    "                z = sigma[sy][sx-1]\n",
    "                if(z==2 or z==3):\n",
    "                    return 0\n",
    "                if(z==1):\n",
    "                    r = np.random.random()\n",
    "                    if(r<p): #el vecino se incendia\n",
    "                        sigma[sy][sx-1] = 2\n",
    "                        ay.append(sy)\n",
    "                        ax.append(sx-1)\n",
    "                        return 1\n",
    "                    else:\n",
    "                        return 0\n",
    "            \n",
    "        if(k==2): #arriba\n",
    "            if(sy==0):\n",
    "                return 0\n",
    "            else:\n",
    "                z = sigma[sy-1][sx]\n",
    "                if(z==2 or z==3):\n",
    "                    return 0\n",
    "                if(z==1):\n",
    "                    r = np.random.random()\n",
    "                    if(r<p): #el vecino se incendia\n",
    "                        sigma[sy-1][sx] = 2\n",
    "                        ay.append(sy-1)\n",
    "                        ax.append(sx)\n",
    "                        return 1\n",
    "                    else:\n",
    "                        return 0\n",
    "            \n",
    "        if(k==3): #abajo\n",
    "            if(sy==L-1):\n",
    "                return 0\n",
    "            else:\n",
    "                z = sigma[sy+1][sx]\n",
    "                if(z==2 or z==3):\n",
    "                    return 0\n",
    "                if(z==1):\n",
    "                    r = np.random.random()\n",
    "                    if(r<p): #el vecino se incendia\n",
    "                        sigma[sy+1][sx] = 2\n",
    "                        ay.append(sy+1)\n",
    "                        ax.append(sx)\n",
    "                        return 1\n",
    "                    else:\n",
    "                        return 0\n",
    "                    \n",
    "                    \n",
    "    if(w==-1): #Percolación mixta\n",
    "        if(k==0): #derecha\n",
    "            if(sx==L-1):\n",
    "                return 0\n",
    "            else:\n",
    "                z = sigma[sy][sx+1] #q es el punto a analizar\n",
    "                if(z==2 or z==3 or z==0): #se introduce adicionalmente la condicion z==0\n",
    "                    return 0\n",
    "                if(z==1): #el vecino se puede incendiar\n",
    "                    r = np.random.random()\n",
    "                    if(r<p): #el vecino se incendia\n",
    "                        sigma[sy][sx+1] = 2\n",
    "                        ay.append(sy)\n",
    "                        ax.append(sx+1)\n",
    "                        return 1\n",
    "                    else:\n",
    "                        return 0\n",
    "\n",
    "        if(k==1): #izq\n",
    "            if(sx==0):\n",
    "                return 0\n",
    "            else:\n",
    "                z = sigma[sy][sx-1]\n",
    "                if(z==2 or z==3 or z==0):\n",
    "                    return 0\n",
    "                if(z==1):\n",
    "                    r = np.random.random()\n",
    "                    if(r<p): #el vecino se incendia\n",
    "                        sigma[sy][sx-1] = 2\n",
    "                        ay.append(sy)\n",
    "                        ax.append(sx-1)\n",
    "                        return 1\n",
    "                    else:\n",
    "                        return 0\n",
    "            \n",
    "        if(k==2): #arriba\n",
    "            if(sy==0):\n",
    "                return 0\n",
    "            else:\n",
    "                z = sigma[sy-1][sx]\n",
    "                if(z==2 or z==3 or z==0):\n",
    "                    return 0\n",
    "                if(z==1):\n",
    "                    r = np.random.random()\n",
    "                    if(r<p): #el vecino se incendia\n",
    "                        sigma[sy-1][sx] = 2\n",
    "                        ay.append(sy-1)\n",
    "                        ax.append(sx)\n",
    "                        return 1\n",
    "                    else:\n",
    "                        return 0\n",
    "            \n",
    "        if(k==3): #abajo\n",
    "            if(sy==L-1):\n",
    "                return 0\n",
    "            else:\n",
    "                z = sigma[sy+1][sx]\n",
    "                if(z==2 or z==3or z==0):\n",
    "                    return 0\n",
    "                if(z==1):\n",
    "                    r = np.random.random()\n",
    "                    if(r<p): #el vecino se incendia\n",
    "                        sigma[sy+1][sx] = 2\n",
    "                        ay.append(sy+1)\n",
    "                        ax.append(sx)\n",
    "                        return 1\n",
    "                    else:\n",
    "                        return 0"
   ]
  },
  {
   "cell_type": "code",
   "execution_count": 200,
   "metadata": {},
   "outputs": [
    {
     "name": "stdout",
     "output_type": "stream",
     "text": [
      "('p:', 0.61)\n",
      "('p:', 0.62)\n",
      "('p:', 0.63)\n",
      "('p:', 0.64)\n",
      "('p:', 0.65)\n",
      "('p:', 0.66)\n",
      "('p:', 0.67)\n",
      "('p:', 0.68)\n",
      "('p:', 0.6900000000000001)\n",
      "('p:', 0.7000000000000001)\n",
      "('p:', 0.71)\n",
      "('p:', 0.72)\n",
      "('p:', 0.73)\n",
      "('p:', 0.74)\n",
      "('p:', 0.75)\n",
      "('p:', 0.76)\n",
      "('p:', 0.77)\n",
      "('p:', 0.78)\n",
      "('p:', 0.79)\n",
      "('p:', 0.8)\n",
      "('p:', 0.81)\n",
      "('p:', 0.8200000000000001)\n",
      "('p:', 0.8300000000000001)\n",
      "('p:', 0.84)\n",
      "('p:', 0.85)\n",
      "('p:', 0.86)\n",
      "('p:', 0.87)\n",
      "('p:', 0.88)\n",
      "('p:', 0.89)\n",
      "('p:', 0.9)\n",
      "('p:', 0.91)\n",
      "('p:', 0.92)\n",
      "('p:', 0.93)\n",
      "('p:', 0.9400000000000001)\n",
      "('p:', 0.9500000000000001)\n",
      "('p:', 0.96)\n",
      "('p:', 0.97)\n",
      "('p:', 0.98)\n",
      "('p:', 0.99)\n",
      "Tiempo de computo: 0.40 hours.\n"
     ]
    }
   ],
   "source": [
    "start_time = time()\n",
    "data = open ('bond_percolation.txt','w')\n",
    "data.write(\"P \\t time \\t state 3 \\n\")\n",
    "L = 401 #lado del cuadrado\n",
    "m = 4 #número máximo posible de primeros vecinos\n",
    "zeit = [] #para el tiempo total de una simulación promediado\n",
    "S = [] #y arboles quemados de una simulación promediado\n",
    "p_1 = np.arange(0,1,0.01)\n",
    "for P in p_1:\n",
    "    temporal = 0 #para los promedios temporales\n",
    "    quemados = 0 #para el promedio de árboles quemados (estado 3)\n",
    "    for j in range(20): #para hacer promedios con 20 datos por p\n",
    "        #se inicializa la matriz\n",
    "        sigma = np.ones((L,L))\n",
    "        s_0 = 200 #posición del primer árbol en estado 2\n",
    "        sigma[s_0][s_0]=2\n",
    "        state2_x = np.zeros(L*L) #coordenadas en x de los árboles en estado 2\n",
    "        state2_y = np.zeros(L*L) #y coordenadas y\n",
    "        #se inicializan los arreglos state2\n",
    "        state2_x[0] = (s_0)\n",
    "        state2_y[0] = (s_0)\n",
    "        f = 1 #indica si aún hay fuego\n",
    "        n2 = 1 #número de árboles en estado 2, se inicializa a 1\n",
    "        n3 = 0 #número de árboles en estado 3, se inicializa a 0\n",
    "        T = [] #para el tiempo por ciclo de una sola simulacion\n",
    "        S2 = [] #para la evolución de número de árboles en el estado 2\n",
    "        S3 = [] #y los del estado 3\n",
    "        t = 0\n",
    "        T.append(t) #se inicializan\n",
    "        S2.append(1) \n",
    "        S3.append(0)\n",
    "    \n",
    "    \n",
    "        while(f==1):\n",
    "            t += 1 #tiempo\n",
    "            c2 = 0 #contador para número de árboles en el estado 2 por ciclo\n",
    "            n3 = 0 #y para el estado 3\n",
    "            auxy = [] #arreglos auxiliares para las nuevas coordenadas de los árboles en estado 2\n",
    "            auxx = []\n",
    "            for i in range(S2[t-1]): #corre sobre los árboles en llamas\n",
    "                for k in range(m): #analiza cada posible vecino del i-esimo árbol en estado 2\n",
    "                    u = percolation(int(state2_y[i]),int(state2_x[i]),sigma,L,k,auxy,auxx,P,state2_y,state2_x,1)\n",
    "                    c2+=u #para sumar al estado 2 en este ciclo\n",
    "                sigma[int(state2_y[i])][int(state2_x[i])] = 3 #transición 2->3 \n",
    "                n3 += 1 #agrega número de arboles quemados\n",
    "            S3.append(n3)\n",
    "            S2.append(c2)\n",
    "            quemados = quemados + n3\n",
    "            for i in range(c2): #se actualizan las coordenadas de arboles en esado 2\n",
    "                state2_y[i] = auxy[i]\n",
    "                state2_x[i] = auxx[i]\n",
    "            T.append(t)\n",
    "            if(c2==0): f=0 #no hay más árboles en estado 2 \n",
    "        temporal = temporal + len(T)-1 #el -1 es porque empieza en 0 \n",
    "    zeit.append(temporal/20.0)\n",
    "    S.append(quemados/20.0)\n",
    "    data.write(('{:.2f}'.format(P)))\n",
    "    data.write(\"\\t\")\n",
    "    data.write(('{:.2f}'.format(temporal/20.0)))\n",
    "    data.write(\"\\t\")\n",
    "    data.write(('{:.2f}'.format(quemados/20.0)))\n",
    "    data.write(\"\\n\")\n",
    "    if(P>0.6): print(\"p:\",P) #para llevar registro de la simulacion\n",
    "data.close()\n",
    "elapsed_time = (time() - start_time)/3600.0\n",
    "print(\"Tiempo de computo: %.2f hours.\" % elapsed_time)"
   ]
  },
  {
   "cell_type": "code",
   "execution_count": 201,
   "metadata": {},
   "outputs": [
    {
     "data": {
      "image/png": "[encoded data removed]",
      "text/plain": [
       "<Figure size 432x288 with 1 Axes>"
      ]
     },
     "metadata": {
      "needs_background": "light"
     },
     "output_type": "display_data"
    }
   ],
   "source": [
    "plt.scatter(p_1,zeit,s=3,c='m')\n",
    "plt.xlabel(\"p\")\n",
    "plt.ylabel(\"t\")\n",
    "plt.title(\"Figura 1a. Tiempo del incendio en funcion de la probabilidad de propagacion\")\n",
    "plt.show()"
   ]
  },
  {
   "cell_type": "code",
   "execution_count": 234,
   "metadata": {},
   "outputs": [
    {
     "name": "stdout",
     "output_type": "stream",
     "text": [
      "('p:', 0.45)\n",
      "('p:', 0.452)\n",
      "('p:', 0.454)\n",
      "('p:', 0.456)\n",
      "('p:', 0.458)\n",
      "('p:', 0.46)\n",
      "('p:', 0.462)\n",
      "('p:', 0.464)\n",
      "('p:', 0.466)\n",
      "('p:', 0.468)\n",
      "('p:', 0.47000000000000003)\n",
      "('p:', 0.47200000000000003)\n",
      "('p:', 0.47400000000000003)\n",
      "('p:', 0.47600000000000003)\n",
      "('p:', 0.47800000000000004)\n",
      "('p:', 0.48000000000000004)\n",
      "('p:', 0.48200000000000004)\n",
      "('p:', 0.48400000000000004)\n",
      "('p:', 0.48600000000000004)\n",
      "('p:', 0.48800000000000004)\n",
      "('p:', 0.49000000000000005)\n",
      "('p:', 0.49200000000000005)\n",
      "('p:', 0.49400000000000005)\n",
      "('p:', 0.49600000000000005)\n",
      "('p:', 0.49800000000000005)\n",
      "('p:', 0.5)\n",
      "('p:', 0.502)\n",
      "('p:', 0.504)\n",
      "('p:', 0.506)\n",
      "('p:', 0.508)\n",
      "('p:', 0.51)\n",
      "('p:', 0.512)\n",
      "('p:', 0.514)\n",
      "('p:', 0.516)\n",
      "('p:', 0.518)\n",
      "('p:', 0.52)\n",
      "('p:', 0.522)\n",
      "('p:', 0.524)\n",
      "('p:', 0.526)\n",
      "('p:', 0.528)\n",
      "('p:', 0.53)\n",
      "('p:', 0.532)\n",
      "('p:', 0.534)\n",
      "('p:', 0.536)\n",
      "('p:', 0.538)\n",
      "('p:', 0.54)\n",
      "('p:', 0.542)\n",
      "('p:', 0.544)\n",
      "('p:', 0.546)\n",
      "('p:', 0.548)\n",
      "('p:', 0.55)\n"
     ]
    }
   ],
   "source": [
    "p_zoom = []\n",
    "t_zoom = []\n",
    "\n",
    "p_zoom = np.arange(0.45,0.55,0.002)\n",
    "for P in p_zoom:\n",
    "    temporal = 0 #para los promedios temporales\n",
    "    quemados = 0 #para el promedio de árboles quemados (estado 3)\n",
    "    for j in range(20): #para hacer promedios con 20 datos por p\n",
    "        #se inicializa la matriz\n",
    "        sigma = np.ones((L,L))\n",
    "        s_0 = 200 #posición del primer árbol en estado 2\n",
    "        sigma[s_0][s_0]=2\n",
    "        state2_x = np.zeros(L*L) #coordenadas en x de los árboles en estado 2\n",
    "        state2_y = np.zeros(L*L) #y coordenadas y\n",
    "        #se inicializan los arreglos state2\n",
    "        state2_x[0] = (s_0)\n",
    "        state2_y[0] = (s_0)\n",
    "        f = 1 #indica si aún hay fuego\n",
    "        n2 = 1 #número de árboles en estado 2, se inicializa a 1\n",
    "        n3 = 0 #número de árboles en estado 3, se inicializa a 0\n",
    "        T = [] #para el tiempo por ciclo de una sola simulacion\n",
    "        S2 = [] #para la evolución de número de árboles en el estado 2\n",
    "        S3 = [] #y los del estado 3\n",
    "        t = 0\n",
    "        T.append(t) #se inicializan\n",
    "        S2.append(1) \n",
    "        S3.append(0)\n",
    "    \n",
    "    \n",
    "        while(f==1):\n",
    "            t += 1 #tiempo\n",
    "            c2 = 0 #contador para número de árboles en el estado 2 por ciclo\n",
    "            n3 = 0 #y para el estado 3\n",
    "            auxy = [] #arreglos auxiliares para las nuevas coordenadas de los árboles en estado 2\n",
    "            auxx = []\n",
    "            for i in range(S2[t-1]): #corre sobre los árboles en llamas\n",
    "                for k in range(m): #analiza cada posible vecino del i-esimo árbol en estado 2\n",
    "                    u = percolation(int(state2_y[i]),int(state2_x[i]),sigma,L,k,auxy,auxx,P,state2_y,state2_x,1)\n",
    "                    c2+=u #para sumar al estado 2 en este ciclo\n",
    "                sigma[int(state2_y[i])][int(state2_x[i])] = 3 #transición 2->3 \n",
    "                n3 += 1 #agrega número de arboles quemados\n",
    "            S3.append(n3)\n",
    "            S2.append(c2)\n",
    "            quemados = quemados + n3\n",
    "            for i in range(c2): #se actualizan las coordenadas de arboles en esado 2\n",
    "                state2_y[i] = auxy[i]\n",
    "                state2_x[i] = auxx[i]\n",
    "            T.append(t)\n",
    "            if(c2==0): f=0 #no hay más árboles en estado 2 \n",
    "        temporal = temporal + len(T)-1 #el -1 es porque empieza en 0 \n",
    "    t_zoom.append(temporal/20.0)\n",
    "    print(\"p:\",P) #para llevar registro de la simulacion"
   ]
  },
  {
   "cell_type": "code",
   "execution_count": 247,
   "metadata": {},
   "outputs": [
    {
     "data": {
      "image/png": "[encoded data removed]",
      "text/plain": [
       "<Figure size 432x288 with 1 Axes>"
      ]
     },
     "metadata": {
      "needs_background": "light"
     },
     "output_type": "display_data"
    }
   ],
   "source": [
    "plt.scatter(p_zoom,t_zoom,s=3,c='m')\n",
    "plt.xlabel(\"p\")\n",
    "plt.ylabel(\"t\")\n",
    "plt.title(\"Figura 1b. Zoom: Tiempo del incendio en funcion de la probabilidad de propagacion\")\n",
    "plt.show()"
   ]
  },
  {
   "cell_type": "markdown",
   "metadata": {},
   "source": [
    "<div style=\"text-align: justify\"> \n",
    "Para verificar la validez de la ecuación (1) se graficó, en escala logarítmica, el número total de árboles quemados en el eje vertical y la parte derecha de la ecuación (1) en el eje horizontal, como se muestra en la figura 2. Se determinó que estas dos cantidades se relacionan por un factor $gamma = 2.25 \\pm 0.04$, que corresponde al exponente crítico y tiene un error relativo de 5.58% respecto al valor teórico $gamma_{teo} = 2.38$. La figura 3 muestra el comportamiento luego de aplicar un ajuste lineal. \n",
    "</div>"
   ]
  },
  {
   "cell_type": "code",
   "execution_count": 176,
   "metadata": {},
   "outputs": [
    {
     "data": {
      "image/png": "[encoded data removed]",
      "text/plain": [
       "<Figure size 432x288 with 1 Axes>"
      ]
     },
     "metadata": {
      "needs_background": "light"
     },
     "output_type": "display_data"
    }
   ],
   "source": [
    "def eq_1(p,pc,g): #ecuación 1\n",
    "    return np.abs(p-pc)**-g\n",
    "\n",
    "gamma_t = 2.38 #valor teorico del exponente critico\n",
    "e1_log = [] #equation (1) en log\n",
    "S_log = [] #log de arboles quemados\n",
    "pc = 0.5\n",
    "for i in range(len(p_1)):\n",
    "    if(S[i]>0 and p_1[i]>0 and p_1[i]<pc): #para evitar divergencias en log y se consideran solo valores menores a pc\n",
    "        S_log.append(np.log(S[i]))\n",
    "        e1_log.append(np.log(eq_1(p_1[i],pc,1)))\n",
    "plt.figure()\n",
    "plt.title(\"Figura 2. Relacion en logaritmo entre S y p\")\n",
    "plt.xlabel(\"1 / |p - pc|\")\n",
    "plt.ylabel(\"S\")\n",
    "plt.scatter(e1_log,S_log,s=3,c='m')\n",
    "plt.legend()\n",
    "plt.show()"
   ]
  },
  {
   "cell_type": "code",
   "execution_count": 177,
   "metadata": {},
   "outputs": [
    {
     "data": {
      "image/png": "[encoded data removed]",
      "text/plain": [
       "<Figure size 432x288 with 1 Axes>"
      ]
     },
     "metadata": {
      "needs_background": "light"
     },
     "output_type": "display_data"
    },
    {
     "name": "stdout",
     "output_type": "stream",
     "text": [
      "La pendiente es: 2.25\n",
      "con error: +/- 0.04\n",
      "La pendiente corresponde con el valor de gamma\n",
      "('y tomando el valor teorico como 2.38 el error relativo es 5.58', '%')\n"
     ]
    }
   ],
   "source": [
    "def line(x,a,b): #modelo para el ajuste\n",
    "    y=a*x + b\n",
    "    return y\n",
    "\n",
    "#ajuste lineal\n",
    "popt, pcov = curve_fit(line,e1_log,S_log) \n",
    "perr = np.sqrt(np.diag(pcov))\n",
    "\n",
    "prob = np.arange(0.6,4.8,2) #probabilidad variando entre 0 y 0.5 para graficar el ajuste\n",
    "ajuste = [] #ajuste\n",
    "for i in range(len(prob)):\n",
    "    ajuste.append(line(prob[i],popt[0],popt[1]))\n",
    "\n",
    "\n",
    "plt.figure()\n",
    "plt.plot(prob,ajuste,label=\"Ajuste lineal\",c=\"k\") #ajuste lineal \n",
    "plt.scatter(e1_log,S_log,s=3,c='m',label=\"Simulacion\")\n",
    "plt.title(\"Figura 3. Ajuste lineal de la relacion de S y p\")\n",
    "plt.xlabel(\"1 / |p - pc|\")\n",
    "plt.ylabel(\"S\")\n",
    "plt.legend()\n",
    "plt.show()\n",
    "\n",
    "err = np.abs(gamma_t - popt[0])*100/gamma_t\n",
    "\n",
    "print(\"La pendiente es: %.2f\" % popt[0])\n",
    "print(\"con error: +/- %.2f\" % perr[0])\n",
    "print(\"La pendiente corresponde con el valor de gamma\")\n",
    "print(\"y tomando el valor teorico como 2.38 el error relativo es %.2f\" % err, \"%\")"
   ]
  },
  {
   "cell_type": "markdown",
   "metadata": {},
   "source": [
    "<div style=\"text-align: justify\"> \n",
    "Para determinar el exponente dinámico dado por la ecuación (2) se consideró el algoritmo 2, el cual calcula valores promedios del exponente dinámico $\\nu$ con 20 muestras. La figura 4 muestra como varía $\\nu$ en función de $p$, se puede apreciar un comportamiento similar a el mostrado en la figura 1. Se evidencia un comportamiento creciente de $\\nu$ a medida que $p$ aumenta hasta llegar a un máximo que ocurre en $p=0.7$ donde empieza a decrecer. Dada la interpretación de $\\nu$ como la dificultad de propagación del fuego, se puede inferir que la propagación es más difícil para valores de $p$ cercanos a 0.7. \n",
    "</div>\n",
    "<div style=\"text-align: justify\"> \n",
    "En particular se calculó el exponente dinámico para $p=0.5$ y se obtuvo $\\nu=1.5141 \\pm 0.2488$\n",
    "</div>\n",
    "<div style=\"text-align: justify\"> \n",
    "Un ejemplo de las muestras que se usaron para comprobar la ecuación (2) se muestra en la figura 5, donde se evidencia el comportamiento lineal en escala logarítmico de $\\nu$ en función de $t$ con $p=0.5$.\n",
    "</div>"
   ]
  },
  {
   "cell_type": "markdown",
   "metadata": {},
   "source": [
    "**Algoritmo 2.** Rutina para calcular la dependencia de $\\nu$ con $p$."
   ]
  },
  {
   "cell_type": "code",
   "execution_count": 178,
   "metadata": {},
   "outputs": [
    {
     "name": "stdout",
     "output_type": "stream",
     "text": [
      "('p:', 0.6000000000000001)\n",
      "('p:', 0.7000000000000002)\n",
      "('p:', 0.8000000000000003)\n",
      "('p:', 0.9000000000000001)\n"
     ]
    }
   ],
   "source": [
    "L = 401 #lado del cuadrado\n",
    "m = 4 #número máximo posible de primeros vecinos\n",
    "v = [] #exponentes dinamicos para cada p promediando 30 simulaciones\n",
    "zeit = [] #para el tiempo total de una simulación promediado\n",
    "S = [] #y arboles quemados de una simulación promediado\n",
    "p = np.arange(0.3,1.0,0.1)\n",
    "err_05 = [] #para el error de v con p = 0.5\n",
    "s3_05 = [] #para graficar ejemplo S ~ t^v , p=0.5\n",
    "t_05 = []\n",
    "g = 1 #hace la funcion de interruptor para tomar datos para grafica\n",
    "for P in p:\n",
    "    v_p = 0 #nu parcial, se suman para promediar\n",
    "    div = 0 #para dividir y promediar\n",
    "    for j in range(20): #para hacer promedios con 30 datos por p\n",
    "        burned = [] #para arboles quemados por ciclo\n",
    "        time_burned = [] #y el tiempo\n",
    "        burned_log = []\n",
    "        time_burned_log = []\n",
    "        temporal = 0 #para los promedios temporales\n",
    "        quemados = 0 #para el promedio de árboles quemados (estado 3)\n",
    "        time_burned.append(temporal)\n",
    "        burned.append(quemados)\n",
    "        #se inicializa la matriz\n",
    "        sigma = np.ones((L,L))\n",
    "        s_0 = 200 #posición del primer árbol en estado 2\n",
    "        sigma[s_0][s_0]=2\n",
    "        state2_x = np.zeros(L*L) #coordenadas en x de los árboles en estado 2\n",
    "        state2_y = np.zeros(L*L) #y coordenadas y\n",
    "        #se inicializan los arreglos state2\n",
    "        state2_x[0] = (s_0)\n",
    "        state2_y[0] = (s_0)\n",
    "        f = 1 #indica si aún hay fuego\n",
    "        n2 = 1 #número de árboles en estado 2, se inicializa a 1\n",
    "        n3 = 0 #número de árboles en estado 3, se inicializa a 0\n",
    "        T = [] #para el tiempo por ciclo de una sola simulacion\n",
    "        S2 = [] #para la evolución de número de árboles en el estado 2\n",
    "        S3 = [] #y los del estado 3\n",
    "        t = 0\n",
    "        T.append(t) #se inicializan\n",
    "        S2.append(1) \n",
    "        S3.append(0)\n",
    "    \n",
    "    \n",
    "        while(f==1):\n",
    "            t += 1 #tiempo\n",
    "            c2 = 0 #contador para número de árboles en el estado 2 por ciclo\n",
    "            n3 = 0 #y para el estado 3\n",
    "            auxy = [] #arreglos auxiliares para las nuevas coordenadas de los árboles en estado 2\n",
    "            auxx = []\n",
    "            for i in range(S2[t-1]): #corre sobre los árboles en llamas\n",
    "                for k in range(m): #analiza cada posible vecino del i-esimo árbol en estado 2\n",
    "                    u = percolation(int(state2_y[i]),int(state2_x[i]),sigma,L,k,auxy,auxx,P,state2_y,state2_x,1)\n",
    "                    c2+=u #para sumar al estado 2 en este ciclo\n",
    "                sigma[int(state2_y[i])][int(state2_x[i])] = 3 #transición 2->3 \n",
    "                n3 += 1 #agrega número de arboles quemados\n",
    "            S3.append(n3)\n",
    "            S2.append(c2)\n",
    "            T.append(t)\n",
    "            quemados = quemados + n3\n",
    "            burned.append(quemados)\n",
    "            time_burned.append(t)\n",
    "                \n",
    "            for i in range(c2): #se actualizan las coordenadas de arboles en esado 2\n",
    "                state2_y[i] = auxy[i]\n",
    "                state2_x[i] = auxx[i]\n",
    "            \n",
    "            if(c2==0): f=0 #no hay más árboles en estado 2 \n",
    "        for i in range(len(burned)): #ajuste\n",
    "            if(burned[i]>0 and time_burned[i]>0):\n",
    "                burned_log.append(np.log(burned[i]))\n",
    "                time_burned_log.append(np.log(time_burned[i]))\n",
    "                \n",
    "        if(len(burned_log)>10 and P==0.5 and g==1): #para graficar un ejemplo \n",
    "            for i in range(len(burned_log)):\n",
    "                s3_05.append(burned_log[i])\n",
    "                t_05.append(time_burned_log[i])\n",
    "            g=0\n",
    "                    \n",
    "        if((len(burned_log))>1): #lo minimo para ajustar\n",
    "            popt, pcov = curve_fit(line,time_burned_log,burned_log) # ajuste\n",
    "            v_p = v_p + popt[0]\n",
    "            div = div + 1.0\n",
    "            if(P==0.5): #error de v , p=0.5\n",
    "                err_05.append(popt[0])\n",
    "    v.append(v_p/div)\n",
    "    v_err = np.std(err_05) #error de v p=0.5\n",
    "    \n",
    "    if(P>0.6): print(\"p:\",P) #para llevar registro de la simulacion"
   ]
  },
  {
   "cell_type": "code",
   "execution_count": 179,
   "metadata": {},
   "outputs": [
    {
     "name": "stdout",
     "output_type": "stream",
     "text": [
      "Para el caso particular p=0.5\n",
      "v: 1.51409\n",
      "con error: +/- 0.24882\n"
     ]
    },
    {
     "data": {
      "image/png": "[encoded data removed]",
      "text/plain": [
       "<Figure size 432x288 with 1 Axes>"
      ]
     },
     "metadata": {
      "needs_background": "light"
     },
     "output_type": "display_data"
    }
   ],
   "source": [
    "plt.figure()\n",
    "plt.scatter(p,v,s=10,c='m')\n",
    "plt.title(\"Figura 4. Exponente dinamico en funcion de p\")\n",
    "plt.xlabel(\"p\")\n",
    "plt.ylabel(\"v\")\n",
    "print(\"Para el caso particular p=0.5\")\n",
    "print(\"v: %.5f\" % v[2])\n",
    "print(\"con error: +/- %.5f\" % v_err)"
   ]
  },
  {
   "cell_type": "code",
   "execution_count": 180,
   "metadata": {},
   "outputs": [
    {
     "data": {
      "image/png": "[encoded data removed]",
      "text/plain": [
       "<Figure size 432x288 with 1 Axes>"
      ]
     },
     "metadata": {
      "needs_background": "light"
     },
     "output_type": "display_data"
    }
   ],
   "source": [
    "plt.figure()\n",
    "plt.scatter(time_burned_log,burned_log,s=1,c='m',label=\"p=0.5 L=401\")\n",
    "plt.title(\"Figura 5. Ejemplo de Arboles quemados en funcion del tiempo\")\n",
    "plt.xlabel(\"t\")\n",
    "plt.ylabel(\"S\")\n",
    "plt.legend()\n",
    "plt.show()"
   ]
  },
  {
   "cell_type": "markdown",
   "metadata": {},
   "source": [
    "**Algoritmo 3. Funciones para generar snapshots y calcular dimensión fractal.**"
   ]
  },
  {
   "cell_type": "code",
   "execution_count": 181,
   "metadata": {},
   "outputs": [],
   "source": [
    "def cm(sy,sx): #centro de masa\n",
    "    rp = 0 #r parcial\n",
    "    for i in range(len(sx)):\n",
    "        rp = rp + np.sqrt(sy[i]*sy[i] + sx[i]*sx[i])\n",
    "    r_cm = rp/len(sx)\n",
    "    return r_cm\n",
    "        \n",
    "    \n",
    "def Rs(rcm,sy,sx):\n",
    "    Rp = 0\n",
    "    for i in range(len(sx)):\n",
    "        ri = np.sqrt(sy[i]*sy[i] + sx[i]*sx[i])\n",
    "        Rp = Rp + np.abs(ri - rcm)**2\n",
    "    R_s = np.sqrt(Rp / len(sx))\n",
    "    return R_s\n",
    "\n",
    "def snap(y3,x3,y2,x2,sigma):\n",
    "    for i in range(len(sigma)):\n",
    "        for k in range(len(sigma)):\n",
    "            if (sigma[i][k] == 3):\n",
    "                y3.append(k)\n",
    "                x3.append(i)\n",
    "            if(sigma[i][k] == 2):\n",
    "                y2.append(k)\n",
    "                x2.append(i) \n",
    "\n",
    "    return \n",
    "                "
   ]
  },
  {
   "cell_type": "markdown",
   "metadata": {},
   "source": [
    "**Algoritmo 4** Rutina para calcular dimensión fractal y generar snapshots."
   ]
  },
  {
   "cell_type": "code",
   "execution_count": 190,
   "metadata": {},
   "outputs": [
    {
     "name": "stdout",
     "output_type": "stream",
     "text": [
      "('p:', 0.3)\n",
      "('p:', 0.5)\n",
      "('p:', 0.7)\n",
      "Tiempo de computo: 1.26 hours.\n"
     ]
    }
   ],
   "source": [
    "start_time = time()\n",
    "L = 401 #lado del cuadrado\n",
    "m = 4 #número máximo posible de primeros vecinos\n",
    "p = [0.3,0.5,0.7]\n",
    "D = [] #para promediar dimension fractal d\n",
    "ERR = [] #error de cada d promedio\n",
    "s3_05 = [] #para graficar ejemplo S ~ Rs^d , p=0.5\n",
    "R_05 = []\n",
    "#para snapshots\n",
    "snx5_s3 = []\n",
    "sny5_s3 = []\n",
    "snx5_s2 = []\n",
    "sny5_s2 = []\n",
    "snx7_s3 = []\n",
    "sny7_s3 = []\n",
    "snx7_s2 = []\n",
    "sny7_s2 = []\n",
    "    \n",
    "g=1 #hace la funcion de interruptor para tomar datos para grafica\n",
    "for P in p:\n",
    "    err = [] #para el errores parciales\n",
    "    d = 0 #d parcial, se suman para promediar\n",
    "    div = 0 #para dividir y promediar\n",
    "    h=1 #funciona como interruptor para graficar\n",
    "    for j in range(20): #para hacer promedios con 30 datos por p\n",
    "        temporal = 0 #para los promedios temporales\n",
    "        quemados = 0 #para el promedio de árboles quemados (estado 3)\n",
    "        time_burned.append(temporal)\n",
    "        burned.append(quemados)\n",
    "        #se inicializa la matriz\n",
    "        sigma = np.ones((L,L))\n",
    "        s_0 = 200 #posición del primer árbol en estado 2\n",
    "        sigma[s_0][s_0]=2\n",
    "        state2_x = np.zeros(L*L) #coordenadas en x de los árboles en estado 2\n",
    "        state2_y = np.zeros(L*L) #y coordenadas y\n",
    "        #se inicializan los arreglos state2\n",
    "        state2_x[0] = (s_0)\n",
    "        state2_y[0] = (s_0)\n",
    "        f = 1 #indica si aún hay fuego\n",
    "        n2 = 1 #número de árboles en estado 2, se inicializa a 1\n",
    "        n3 = 0 #número de árboles en estado 3, se inicializa a 0\n",
    "        T = [] #para el tiempo por ciclo de una sola simulacion\n",
    "        S2 = [] #para la evolución de número de árboles en el estado 2\n",
    "        S3 = [] #y los del estado 3 por ciclo\n",
    "        t = 0\n",
    "        T.append(t) #se inicializan\n",
    "        S2.append(1) \n",
    "        S3.append(0)\n",
    "        S3y = [] #posiciones de arboles quemados terminada la simulacion\n",
    "        S3x = []\n",
    "        R_giro = [] #para almacenar radio de giro en cada t\n",
    "        S = [] #y arboles quemados \n",
    "        R_giro_log = []\n",
    "        S_log = []\n",
    "        while(f==1):\n",
    "            t += 1 #tiempo\n",
    "            c2 = 0 #contador para número de árboles en el estado 2 por ciclo\n",
    "            n3 = 0 #y para el estado 3\n",
    "            auxy = [] #arreglos auxiliares para las nuevas coordenadas de los árboles en estado 2\n",
    "            auxx = []\n",
    "            for i in range(S2[t-1]): #corre sobre los árboles en llamas\n",
    "                for k in range(m): #analiza cada posible vecino del i-esimo árbol en estado 2\n",
    "                    u = percolation(int(state2_y[i]),int(state2_x[i]),sigma,L,k,auxy,auxx,P,state2_y,state2_x,1)\n",
    "                    c2+=u #para sumar al estado 2 en este ciclo\n",
    "                sigma[int(state2_y[i])][int(state2_x[i])] = 3 #transición 2->3\n",
    "                S3y.append(state2_y[i])\n",
    "                S3x.append(state2_x[i])\n",
    "                n3 += 1 #agrega número de arboles quemados\n",
    "            S3.append(n3)\n",
    "            S2.append(c2)\n",
    "            T.append(t)\n",
    "            quemados = quemados + n3\n",
    "            centro = cm(S3y,S3x)\n",
    "            radiogiro = Rs(centro,S3y,S3x)\n",
    "            R_giro.append(radiogiro)\n",
    "            S.append(quemados)\n",
    "            \n",
    "            for i in range(c2): #se actualizan las coordenadas de arboles en esado 2\n",
    "                state2_y[i] = auxy[i]\n",
    "                state2_x[i] = auxx[i]\n",
    "            \n",
    "\n",
    "            #snapshots\n",
    "            if(len(T)==int(L/2) and h==1):\n",
    "                if(P==0.5):\n",
    "                    snap(sny5_s3,snx5_s3,sny5_s2,snx5_s2,sigma)\n",
    "                    h = 0\n",
    "                if(P==0.7):\n",
    "                    snap(sny7_s3,snx7_s3,sny7_s2,snx7_s2,sigma)    \n",
    "                    h = 0\n",
    "                \n",
    "            if(c2==0): f=0 #no hay más árboles en estado 2\n",
    "\n",
    "        for i in range(len(S)): #ajuste\n",
    "            if(S[i]>0 and R_giro[i]>0):\n",
    "                S_log.append(np.log(S[i]))\n",
    "                R_giro_log.append(np.log(R_giro[i]))\n",
    "\n",
    "        if(len(S_log)>10 and P==0.5 and g==1): #para graficar un ejemplo \n",
    "            for i in range(len(S_log)):\n",
    "                s3_05.append(S_log[i])\n",
    "                R_05.append(R_giro_log[i])\n",
    "            g=0\n",
    "            \n",
    "        if((len(S_log))>1): #lo minimo para ajustar\n",
    "            popt, pcov = curve_fit(line,R_giro_log,S_log) # ajuste\n",
    "            d = d + popt[0]\n",
    "            div = div + 1.0\n",
    "            err.append(popt[0])\n",
    "        #print(j) #para llevar registro de la simulacion\n",
    "    D.append(d/div)\n",
    "    ERR.append(np.std(err)) #error de v p=0.5\n",
    "\n",
    "    print(\"p:\",P) #para llevar registro de la simulacion\n",
    "    \n",
    "elapsed_time = (time() - start_time)/3600.0\n",
    "print(\"Tiempo de computo: %.2f hours.\" % elapsed_time)"
   ]
  },
  {
   "cell_type": "code",
   "execution_count": 193,
   "metadata": {},
   "outputs": [
    {
     "data": {
      "image/png": "[encoded data removed]",
      "text/plain": [
       "<Figure size 432x288 with 1 Axes>"
      ]
     },
     "metadata": {
      "needs_background": "light"
     },
     "output_type": "display_data"
    },
    {
     "name": "stdout",
     "output_type": "stream",
     "text": [
      "Dimensiones fractales:\n",
      "p=0.3, d= 1.54676\n",
      "+/- 1.05721\n",
      "p=0.5, d= 1.88335\n",
      "+/- 0.12459\n",
      "p=0.7, d= 2.03215\n",
      "+/- 0.02385\n"
     ]
    }
   ],
   "source": [
    "plt.figure()\n",
    "plt.scatter(R_05,s3_05,s=1,c='m',label=\"p=0.5 L=401\")\n",
    "plt.title(\"Figura 6. Ejemplo de Arboles quemados en funcion del radio de giro en escala logaritmica\")\n",
    "plt.xlabel(\"R_s\")\n",
    "plt.ylabel(\"S\")\n",
    "plt.legend()\n",
    "plt.show()\n",
    "\n",
    "print(\"Dimensiones fractales:\")\n",
    "print(\"p=0.3, d= %.5f\" % D[0])\n",
    "print(\"+/- %.5f\" % ERR[0])\n",
    "print(\"p=0.5, d= %.5f\" % D[1])\n",
    "print(\"+/- %.5f\" % ERR[1])\n",
    "print(\"p=0.7, d= %.5f\" % D[2])\n",
    "print(\"+/- %.5f\" % ERR[2])"
   ]
  },
  {
   "cell_type": "markdown",
   "metadata": {},
   "source": [
    "<div style=\"text-align: justify\"> \n",
    "Para hallar la dimensión fractal dada por la ecuación (3) se usó el algoritmo 4, se hallaron las dimensiones fractales para $p = 0.3,0.5,0.7$ y se obtuvo $1.55 \\pm 1.06$, $1.88 \\pm 0.12$ y $2.03 \\pm 0.02$ respectivamente. Se puede notar que a medida que $p$ aumenta el error disminuye, esto se debe a que para valores pequeños de $p$ los tiempos de las simulaciones fluctuaban mucho, es decir, que el fuego se acababa muy rápido para algunos casos y para otros duraba más tiempo, mientras que para valores grandes de $p$ era más estable. \n",
    "</div>\n",
    "\n",
    "<div style=\"text-align: justify\"> \n",
    "La figura 6 muestra, en escala logarítmica, el número de árboles quemados en cada paso de tiempo respecto al radio de giro dado por la ecuación (4), de este ejemplo es apreciable el comportamiento lineal que da la dimensión fractal del problema.\n",
    "</div>\n",
    "\n",
    "<div style=\"text-align: justify\"> \n",
    "Finalmente, las figuras 7 y 8 muestran snapshots para un tiempo fijo antes de finalizar la simulación para valores de $p=0.5$ y $p = 0.7$.\n",
    "</div>"
   ]
  },
  {
   "cell_type": "code",
   "execution_count": 248,
   "metadata": {},
   "outputs": [
    {
     "data": {
      "text/plain": [
       "<function matplotlib.pyplot.show>"
      ]
     },
     "execution_count": 248,
     "metadata": {},
     "output_type": "execute_result"
    },
    {
     "data": {
      "image/png": "[encoded data removed]",
      "text/plain": [
       "<Figure size 432x288 with 1 Axes>"
      ]
     },
     "metadata": {
      "needs_background": "light"
     },
     "output_type": "display_data"
    },
    {
     "data": {
      "image/png": "[encoded data removed]",
      "text/plain": [
       "<Figure size 432x288 with 1 Axes>"
      ]
     },
     "metadata": {
      "needs_background": "light"
     },
     "output_type": "display_data"
    }
   ],
   "source": [
    "plt.figure()\n",
    "plt.title(\"Figura 7. Snapshot p=0.7, L=401\")\n",
    "plt.scatter(snx7_s3,sny7_s3,c='k',s=1)\n",
    "plt.scatter(snx7_s2,sny7_s2,c='r',s=1)\n",
    "ax = plt.gca()\n",
    "ax.set_facecolor('g')\n",
    "plt.show\n",
    "\n",
    "plt.figure()\n",
    "plt.title(\"Figura 8. Snapshot p=0.5, L=401\")\n",
    "plt.scatter(snx5_s3,sny5_s3,c='k',s=1)\n",
    "plt.scatter(snx5_s2,sny5_s2,c='r',s=1)\n",
    "ax = plt.gca()\n",
    "ax.set_facecolor('g')\n",
    "plt.show"
   ]
  },
  {
   "cell_type": "markdown",
   "metadata": {},
   "source": [
    "<h1><center><font size=\"4\">4. Conclusiones</font></center></h1>\n",
    "<div style=\"text-align: justify\">\n",
    "Se determina un umbral de percolación de $p_c = 0.506$.\n",
    "    \n",
    "Se determina un exponente crítico de $\\gamma = 2.25 \\pm 0.04$ con error de 5.58% respecto al valor teórico.\n",
    "\n",
    "Se halla un exponente dinámico de 1.5141 \\pm 0.2488 para p=0.5.\n",
    "\n",
    "De la figura 4 se concluye que es más difícil que se propague el fuego para valores de $p$ cercanos a 0.7.\n",
    "\n",
    "las dimensión fractal del número de árboles quemados en función del radio de giro para $p = 0.3,0.5,0.7$ es $1.55 \\pm 1.06$, $1.88 \\pm 0.12$ y $2.03 \\pm 0.02$ respectivamente. \n",
    "</div>"
   ]
  },
  {
   "cell_type": "markdown",
   "metadata": {},
   "source": [
    "<h1><center><font size=\"4\">5. Bibliografía</font></center></h1>\n",
    "\n",
    "[1] Paul Balister;  Béla Bollobás;  Mark Walters; (2005), Continuum percolation with steps in the square or the disc, Random Structures and Algorithms, Vol. 26, 4, pp. 392-403.\n",
    "\n",
    "[2]  D. Li; Y. Wang; G. Lu; Y. Berezin; H.E. Stanley; S. Havlin (2015). \"Percolation transition in dynamical traffic network with evolving critical bottlenecks\". PNAS. 112: 669.\n",
    "\n",
    "[3] https://en.wikipedia.org/wiki/Percolation_theory\n"
   ]
  },
  {
   "cell_type": "markdown",
   "metadata": {},
   "source": [
    "<h1><center><font size=\"4\">6. Agradecimientos</font></center></h1>\n",
    "Al profesor Johans Restrepo Cárdenas, por desempeñar exitosamente su labor de profesor en medio de una virtualidad que vuelve a la transmisión de conocimiento una tarea más difícil."
   ]
  }
 ],
 "metadata": {
  "kernelspec": {
   "display_name": "Python 3",
   "language": "python",
   "name": "python3"
  },
  "language_info": {
   "codemirror_mode": {
    "name": "ipython",
    "version": 2
   },
   "file_extension": ".py",
   "mimetype": "text/x-python",
   "name": "python",
   "nbconvert_exporter": "python",
   "pygments_lexer": "ipython2",
   "version": "2.7.17"
  }
 },
 "nbformat": 4,
 "nbformat_minor": 2
}
